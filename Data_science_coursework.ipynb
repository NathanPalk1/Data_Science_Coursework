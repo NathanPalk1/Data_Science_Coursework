{
 "cells": [
  {
   "cell_type": "markdown",
   "id": "45871d5a-7b57-42cf-abbb-880f276e89fa",
   "metadata": {},
   "source": [
    "Note - this analysis uses the data from the following reference.\n",
    "\n",
    "Laabei M, Uhlemann A-C, Lowy FD, Austin ED, Yokoyama M, Ouadi K, et al. Evolutionary Trade-Offs Underlie the Multi-faceted Virulence of Staphylococcus aureus. PLOS Biology. 2015;13(9):e1002229.\n"
   ]
  },
  {
   "cell_type": "markdown",
   "id": "15973b1a-f3b4-4616-aa3d-f6ccd96eec2f",
   "metadata": {
    "tags": []
   },
   "source": [
    "#### Import dataset"
   ]
  },
  {
   "cell_type": "code",
   "execution_count": 37,
   "id": "b06130c4-10de-48b6-8150-021632cdd350",
   "metadata": {
    "tags": []
   },
   "outputs": [
    {
     "data": {
      "text/html": [
       "<div>\n",
       "<style scoped>\n",
       "    .dataframe tbody tr th:only-of-type {\n",
       "        vertical-align: middle;\n",
       "    }\n",
       "\n",
       "    .dataframe tbody tr th {\n",
       "        vertical-align: top;\n",
       "    }\n",
       "\n",
       "    .dataframe thead th {\n",
       "        text-align: right;\n",
       "    }\n",
       "</style>\n",
       "<table border=\"1\" class=\"dataframe\">\n",
       "  <thead>\n",
       "    <tr style=\"text-align: right;\">\n",
       "      <th></th>\n",
       "      <th>Isolate</th>\n",
       "      <th>Genotype</th>\n",
       "      <th>Source</th>\n",
       "      <th>T2</th>\n",
       "      <th>THP1</th>\n",
       "    </tr>\n",
       "  </thead>\n",
       "  <tbody>\n",
       "    <tr>\n",
       "      <th>0</th>\n",
       "      <td>MR005</td>\n",
       "      <td>Wildtype clinical USA300</td>\n",
       "      <td>Blood (bacteraemia)</td>\n",
       "      <td>58.133333</td>\n",
       "      <td>80.533333</td>\n",
       "    </tr>\n",
       "    <tr>\n",
       "      <th>1</th>\n",
       "      <td>MR007</td>\n",
       "      <td>Wildtype clinical USA300</td>\n",
       "      <td>Blood (bacteraemia)</td>\n",
       "      <td>27.466667</td>\n",
       "      <td>37.333333</td>\n",
       "    </tr>\n",
       "    <tr>\n",
       "      <th>2</th>\n",
       "      <td>MR018</td>\n",
       "      <td>Wildtype clinical USA300</td>\n",
       "      <td>Blood (bacteraemia)</td>\n",
       "      <td>11.500000</td>\n",
       "      <td>5.233333</td>\n",
       "    </tr>\n",
       "    <tr>\n",
       "      <th>3</th>\n",
       "      <td>MR019</td>\n",
       "      <td>Wildtype clinical USA300</td>\n",
       "      <td>Blood (bacteraemia)</td>\n",
       "      <td>69.933333</td>\n",
       "      <td>73.200000</td>\n",
       "    </tr>\n",
       "    <tr>\n",
       "      <th>4</th>\n",
       "      <td>MR021</td>\n",
       "      <td>Wildtype clinical USA300</td>\n",
       "      <td>Blood (bacteraemia)</td>\n",
       "      <td>70.266667</td>\n",
       "      <td>84.033333</td>\n",
       "    </tr>\n",
       "    <tr>\n",
       "      <th>...</th>\n",
       "      <td>...</td>\n",
       "      <td>...</td>\n",
       "      <td>...</td>\n",
       "      <td>...</td>\n",
       "      <td>...</td>\n",
       "    </tr>\n",
       "    <tr>\n",
       "      <th>69</th>\n",
       "      <td>USFL271</td>\n",
       "      <td>Wildtype clinical USA300</td>\n",
       "      <td>Nose/skin (carriage)</td>\n",
       "      <td>83.666667</td>\n",
       "      <td>69.400000</td>\n",
       "    </tr>\n",
       "    <tr>\n",
       "      <th>70</th>\n",
       "      <td>USFL272</td>\n",
       "      <td>Wildtype clinical USA300</td>\n",
       "      <td>Nose/skin (carriage)</td>\n",
       "      <td>41.000000</td>\n",
       "      <td>13.566667</td>\n",
       "    </tr>\n",
       "    <tr>\n",
       "      <th>71</th>\n",
       "      <td>USFL302</td>\n",
       "      <td>Wildtype clinical USA300</td>\n",
       "      <td>Nose/skin (carriage)</td>\n",
       "      <td>80.100000</td>\n",
       "      <td>54.300000</td>\n",
       "    </tr>\n",
       "    <tr>\n",
       "      <th>72</th>\n",
       "      <td>USFL303</td>\n",
       "      <td>Wildtype clinical USA300</td>\n",
       "      <td>Nose/skin (carriage)</td>\n",
       "      <td>90.466667</td>\n",
       "      <td>67.400000</td>\n",
       "    </tr>\n",
       "    <tr>\n",
       "      <th>73</th>\n",
       "      <td>USFL304</td>\n",
       "      <td>Wildtype clinical USA300</td>\n",
       "      <td>Nose/skin (carriage)</td>\n",
       "      <td>63.933333</td>\n",
       "      <td>28.833333</td>\n",
       "    </tr>\n",
       "  </tbody>\n",
       "</table>\n",
       "<p>74 rows × 5 columns</p>\n",
       "</div>"
      ],
      "text/plain": [
       "    Isolate                  Genotype                Source         T2  \\\n",
       "0     MR005  Wildtype clinical USA300   Blood (bacteraemia)  58.133333   \n",
       "1     MR007  Wildtype clinical USA300   Blood (bacteraemia)  27.466667   \n",
       "2     MR018  Wildtype clinical USA300   Blood (bacteraemia)  11.500000   \n",
       "3     MR019  Wildtype clinical USA300   Blood (bacteraemia)  69.933333   \n",
       "4     MR021  Wildtype clinical USA300   Blood (bacteraemia)  70.266667   \n",
       "..      ...                       ...                   ...        ...   \n",
       "69  USFL271  Wildtype clinical USA300  Nose/skin (carriage)  83.666667   \n",
       "70  USFL272  Wildtype clinical USA300  Nose/skin (carriage)  41.000000   \n",
       "71  USFL302  Wildtype clinical USA300  Nose/skin (carriage)  80.100000   \n",
       "72  USFL303  Wildtype clinical USA300  Nose/skin (carriage)  90.466667   \n",
       "73  USFL304  Wildtype clinical USA300  Nose/skin (carriage)  63.933333   \n",
       "\n",
       "         THP1  \n",
       "0   80.533333  \n",
       "1   37.333333  \n",
       "2    5.233333  \n",
       "3   73.200000  \n",
       "4   84.033333  \n",
       "..        ...  \n",
       "69  69.400000  \n",
       "70  13.566667  \n",
       "71  54.300000  \n",
       "72  67.400000  \n",
       "73  28.833333  \n",
       "\n",
       "[74 rows x 5 columns]"
      ]
     },
     "execution_count": 37,
     "metadata": {},
     "output_type": "execute_result"
    }
   ],
   "source": [
    "import pandas as pd\n",
    "data = pd.read_csv(\"isolate_data.csv\",  na_values = \"N/A\")\n",
    "data"
   ]
  },
  {
   "cell_type": "markdown",
   "id": "8d8d0dc2-09f8-4d90-acd3-0e360cff16a5",
   "metadata": {},
   "source": [
    "Pandas function read_csv imports the file, converts it to a Dataframe and assigns \"N/A\" as a missing value. We can now view the dataset to ensure formatting is correct. This is a dataset of clinical isolates, the source of infection (either bacteraemia or carriage) and two measures of how cytotoxic each isolate to cell lines, T2 cells and THP-1 cells. "
   ]
  },
  {
   "cell_type": "markdown",
   "id": "f8e3d2af-dd08-4925-8f7e-2d19fdc3b942",
   "metadata": {
    "tags": []
   },
   "source": [
    "#### Explore data"
   ]
  },
  {
   "cell_type": "code",
   "execution_count": 38,
   "id": "39eae234-d09a-43b5-a756-2b5cd3ffcf66",
   "metadata": {},
   "outputs": [],
   "source": [
    "import seaborn as sns\n",
    "sns.set_theme()"
   ]
  },
  {
   "cell_type": "markdown",
   "id": "63683e60-059b-4744-856f-1c488547c7c4",
   "metadata": {},
   "source": [
    "To visualise the data and explore any relationships we import seaborn, a third-party library for data visualisation"
   ]
  },
  {
   "cell_type": "code",
   "execution_count": 39,
   "id": "d32af940-2257-4f0f-a155-93b9e25f7dc4",
   "metadata": {},
   "outputs": [],
   "source": [
    "sns.set_style(\"ticks\")\n",
    "colours = [\"coral\", \"cadetblue\"]\n",
    "customPalette = sns.set_palette(sns.color_palette(colours))"
   ]
  },
  {
   "cell_type": "markdown",
   "id": "4876ff4d-ff4d-40d5-a66b-0f2bbbc5a982",
   "metadata": {},
   "source": [
    "This sets the style and colour palette for the graphs"
   ]
  },
  {
   "cell_type": "code",
   "execution_count": 40,
   "id": "b34e4435-aa5f-4072-ab25-83f5d6462a42",
   "metadata": {},
   "outputs": [
    {
     "data": {
      "text/plain": [
       "<seaborn.axisgrid.FacetGrid at 0x1cabd504340>"
      ]
     },
     "execution_count": 40,
     "metadata": {},
     "output_type": "execute_result"
    },
    {
     "data": {
      "image/png": "[encoded data removed]",
      "text/plain": [
       "<Figure size 499.1x360 with 1 Axes>"
      ]
     },
     "metadata": {},
     "output_type": "display_data"
    }
   ],
   "source": [
    "ax = sns.relplot(data=data, x=\"THP1\", y=\"T2\", hue = \"Source\", palette=customPalette)\n",
    "\n",
    "ax.set_titles(\"\")\n",
    "ax.set_ylabels(\"T2 Cell Death (%)\", clear_inner=False)\n",
    "ax.set_xlabels(\"THP-1 Cell Death (%)\", clear_inner=False)"
   ]
  },
  {
   "cell_type": "markdown",
   "id": "5bbd40f2-555b-4d2f-b5c0-7344febaa379",
   "metadata": {},
   "source": [
    "Firstly, the association between T2 and THP-1 toxicity was visualised, two measures of the cytotoxicity of each bacterial isolate. This was visualised as a scatterplot using the sns.relplot function. There is a clear positive association between the two variables, indicating that as THP-1 cell death increases, T2 cell death also increases. When we include the source of the infection as the \"hue\" of each point, we can also see clustering in that the bacteraemia isolates are less toxic than the carriage isolates."
   ]
  },
  {
   "cell_type": "code",
   "execution_count": 41,
   "id": "8cb46235-4936-4e3e-a021-076c150d0a5a",
   "metadata": {},
   "outputs": [
    {
     "data": {
      "text/html": [
       "<div>\n",
       "<style scoped>\n",
       "    .dataframe tbody tr th:only-of-type {\n",
       "        vertical-align: middle;\n",
       "    }\n",
       "\n",
       "    .dataframe tbody tr th {\n",
       "        vertical-align: top;\n",
       "    }\n",
       "\n",
       "    .dataframe thead th {\n",
       "        text-align: right;\n",
       "    }\n",
       "</style>\n",
       "<table border=\"1\" class=\"dataframe\">\n",
       "  <thead>\n",
       "    <tr style=\"text-align: right;\">\n",
       "      <th></th>\n",
       "      <th>T2</th>\n",
       "      <th>THP1</th>\n",
       "    </tr>\n",
       "  </thead>\n",
       "  <tbody>\n",
       "    <tr>\n",
       "      <th>T2</th>\n",
       "      <td>1.000000</td>\n",
       "      <td>0.818053</td>\n",
       "    </tr>\n",
       "    <tr>\n",
       "      <th>THP1</th>\n",
       "      <td>0.818053</td>\n",
       "      <td>1.000000</td>\n",
       "    </tr>\n",
       "  </tbody>\n",
       "</table>\n",
       "</div>"
      ],
      "text/plain": [
       "            T2      THP1\n",
       "T2    1.000000  0.818053\n",
       "THP1  0.818053  1.000000"
      ]
     },
     "execution_count": 41,
     "metadata": {},
     "output_type": "execute_result"
    }
   ],
   "source": [
    "data.corr()"
   ]
  },
  {
   "cell_type": "markdown",
   "id": "00ccc510-557a-42db-b527-b5877701d7ea",
   "metadata": {},
   "source": [
    "We can find out how correlated the two variables are using data.corr(). This confirms a strong positive correlation of 0.82"
   ]
  },
  {
   "cell_type": "code",
   "execution_count": 42,
   "id": "c06718c9-40e7-4861-997d-110459757d69",
   "metadata": {},
   "outputs": [
    {
     "data": {
      "text/plain": [
       "<seaborn.axisgrid.FacetGrid at 0x1cabd599070>"
      ]
     },
     "execution_count": 42,
     "metadata": {},
     "output_type": "execute_result"
    },
    {
     "data": {
      "image/png": "[encoded data removed]",
      "text/plain": [
       "<Figure size 360x360 with 1 Axes>"
      ]
     },
     "metadata": {},
     "output_type": "display_data"
    }
   ],
   "source": [
    "bx = sns.catplot(data=data, x=\"Source\", y=\"T2\", kind = \"box\")\n",
    "\n",
    "bx.set_titles(\"\")\n",
    "bx.set_ylabels(\"T2 Cell Death (%)\", clear_inner=False)\n",
    "bx.set_xlabels(\" \", clear_inner=False)"
   ]
  },
  {
   "cell_type": "markdown",
   "id": "0c1b58e3-28dd-46d0-bf8c-4f49c8b09e50",
   "metadata": {},
   "source": [
    "This line of code plots a boxplot of T2 cell death against the source of infection (blood or nose/skin) using the sns.catplot() function. From this, it is clear that bacteramia isolates are less cytotoxic to T2 cells than carriage isolates. "
   ]
  },
  {
   "cell_type": "code",
   "execution_count": 43,
   "id": "d9b3c1f5-d00b-4be0-8ae1-b5c1117d9a88",
   "metadata": {},
   "outputs": [
    {
     "data": {
      "text/plain": [
       "<seaborn.axisgrid.FacetGrid at 0x1cabe730f40>"
      ]
     },
     "execution_count": 43,
     "metadata": {},
     "output_type": "execute_result"
    },
    {
     "data": {
      "image/png": "[encoded data removed]",
      "text/plain": [
       "<Figure size 360x360 with 1 Axes>"
      ]
     },
     "metadata": {},
     "output_type": "display_data"
    }
   ],
   "source": [
    "bx2 = sns.catplot(data=data, x=\"Source\", y=\"THP1\", kind = \"box\")\n",
    "\n",
    "bx2.set_titles(\"\")\n",
    "bx2.set_ylabels(\"THP-1 Cell Death (%)\", clear_inner=False)\n",
    "bx2.set_xlabels(\" \", clear_inner=False)"
   ]
  },
  {
   "cell_type": "markdown",
   "id": "107fb726-5090-483e-9661-247861f27ae1",
   "metadata": {},
   "source": [
    "We can also plot a boxplot of THP-1 cell death against source of infection. The same trend can be seen, but this is to a lesser extent than T2 cells."
   ]
  },
  {
   "cell_type": "markdown",
   "id": "df2d043c-b093-4de7-b7d8-8e98eefbec2b",
   "metadata": {
    "tags": []
   },
   "source": [
    "#### Linear regression models"
   ]
  },
  {
   "cell_type": "markdown",
   "id": "76462e70-dad1-4e53-a05b-32c912f2cb56",
   "metadata": {},
   "source": [
    "All data"
   ]
  },
  {
   "cell_type": "code",
   "execution_count": 44,
   "id": "f5922f64-d127-4a9a-8c85-588aa8aa160d",
   "metadata": {},
   "outputs": [],
   "source": [
    "from sklearn.linear_model import LinearRegression\n",
    "\n",
    "model = LinearRegression(fit_intercept=True)"
   ]
  },
  {
   "cell_type": "markdown",
   "id": "a415336a-45bd-4bef-9a76-18b1c55b643f",
   "metadata": {},
   "source": [
    "Given the strong positive correlation, A linear regression model was fitted. Firstly, the model was imported from sklearn and to ensure that the model fits the y-intercept the \"fit_intercept = True\" hyperparameter was included"
   ]
  },
  {
   "cell_type": "code",
   "execution_count": 45,
   "id": "a1ecb5ee-f7fd-4509-a3a4-85078a3c7c7d",
   "metadata": {},
   "outputs": [],
   "source": [
    "X = data[[\"THP1\"]]\n",
    "y = data[\"T2\"]"
   ]
  },
  {
   "cell_type": "markdown",
   "id": "28e0807c-1266-462f-9e43-97b05a158255",
   "metadata": {},
   "source": [
    "Firstly we split our data into two variables in a suitable format for the linear regression model. The x variable must be a 2D dataframe, which we created using data[[\"THP-1\"]] and the y, a series using data[\"T2\"]"
   ]
  },
  {
   "cell_type": "code",
   "execution_count": 46,
   "id": "670ba697-ab0d-471c-8e37-167bc9cee17f",
   "metadata": {},
   "outputs": [
    {
     "data": {
      "text/plain": [
       "LinearRegression()"
      ]
     },
     "execution_count": 46,
     "metadata": {},
     "output_type": "execute_result"
    }
   ],
   "source": [
    "model.fit(X, y)"
   ]
  },
  {
   "cell_type": "markdown",
   "id": "24e4556d-363d-4056-a158-033945c420df",
   "metadata": {},
   "source": [
    "The model.fit() function then fits the linear regression model to our data."
   ]
  },
  {
   "cell_type": "code",
   "execution_count": 47,
   "id": "30095a2d-3200-4570-87e2-e839e2d48605",
   "metadata": {},
   "outputs": [],
   "source": [
    "x_fit = pd.DataFrame({\"THP1\": [0, 100]})\n",
    "y_pred = model.predict(x_fit)"
   ]
  },
  {
   "cell_type": "markdown",
   "id": "c3bf0c43-d64d-4d24-a613-cfe6e5d67ee3",
   "metadata": {},
   "source": [
    "We then create a dataframe of x values and predict the y values using the model to create values for a prediction line"
   ]
  },
  {
   "cell_type": "code",
   "execution_count": 48,
   "id": "a0c02dc0-861d-4fcc-93ad-72959291d0a2",
   "metadata": {},
   "outputs": [
    {
     "data": {
      "image/png": "[encoded data removed]",
      "text/plain": [
       "<Figure size 432x288 with 1 Axes>"
      ]
     },
     "metadata": {},
     "output_type": "display_data"
    }
   ],
   "source": [
    "import matplotlib.pyplot as plt\n",
    "\n",
    "fig, ax = plt.subplots()\n",
    "\n",
    "ax.scatter(X[\"THP1\"], y)\n",
    "ax.set_ylabel(\"T2 cell death (%)\")\n",
    "ax.set_xlabel(\"THP1 cell death (%)\")\n",
    "ax.plot(x_fit, y_pred, linestyle=\":\", color=\"red\",);"
   ]
  },
  {
   "cell_type": "markdown",
   "id": "39df58bb-5a6c-47f3-bbc3-d977923341ab",
   "metadata": {},
   "source": [
    "This code plots our scatter plot, but including the prediction line from the model"
   ]
  },
  {
   "cell_type": "code",
   "execution_count": 49,
   "id": "0684fc59-9d9e-4666-8fe9-fba3c92e0622",
   "metadata": {},
   "outputs": [
    {
     "name": "stdout",
     "output_type": "stream",
     "text": [
      " Model gradient:  0.8573322611015526\n",
      "Model intercept: 13.387508464746631\n"
     ]
    }
   ],
   "source": [
    "print(\" Model gradient: \", model.coef_[0])\n",
    "print(\"Model intercept:\", model.intercept_)"
   ]
  },
  {
   "cell_type": "markdown",
   "id": "a7e374c4-6707-4e62-9acc-347ddd4a46f0",
   "metadata": {},
   "source": [
    "We can also print the gradient and intercept of the prediction line. This can be represented as y = 0.86x + 13.39"
   ]
  },
  {
   "cell_type": "code",
   "execution_count": 50,
   "id": "dc7777dd-6d02-4715-9369-9e1872eda085",
   "metadata": {},
   "outputs": [],
   "source": [
    "from sklearn.model_selection import train_test_split\n",
    "\n",
    "train_X, test_X, train_y, test_y = train_test_split(X, y, random_state=42)"
   ]
  },
  {
   "cell_type": "markdown",
   "id": "1b485de7-c253-47c8-b731-07132ed96a61",
   "metadata": {},
   "source": [
    "To check whether this model represents our data well we split our data into a subset of data to fit with and a subset of data to test against using the tran_test_split() function from sklearn"
   ]
  },
  {
   "cell_type": "code",
   "execution_count": 51,
   "id": "49f5c56b-e74b-4d03-8633-b777e42b7b9e",
   "metadata": {},
   "outputs": [
    {
     "data": {
      "text/plain": [
       "<matplotlib.legend.Legend at 0x1cabe5b9910>"
      ]
     },
     "execution_count": 51,
     "metadata": {},
     "output_type": "execute_result"
    },
    {
     "data": {
      "image/png": "[encoded data removed]",
      "text/plain": [
       "<Figure size 432x288 with 1 Axes>"
      ]
     },
     "metadata": {},
     "output_type": "display_data"
    }
   ],
   "source": [
    "import matplotlib.pyplot as plt\n",
    "\n",
    "fig, ax = plt.subplots()\n",
    "\n",
    "ax.scatter(train_X, train_y, color=\"red\", marker=\"o\", label=\"train\")\n",
    "ax.scatter(test_X, test_y, color=\"blue\", marker=\"x\", label=\"test\")\n",
    "ax.legend()"
   ]
  },
  {
   "cell_type": "markdown",
   "id": "5df10579-08da-437b-817e-9ecdba1364f5",
   "metadata": {},
   "source": [
    "We can then plot our datasets to ensure an equal distribution of our train and test datasets"
   ]
  },
  {
   "cell_type": "code",
   "execution_count": 52,
   "id": "6e76912f-3618-4536-a610-b2aa8091f42f",
   "metadata": {},
   "outputs": [
    {
     "data": {
      "text/plain": [
       "LinearRegression()"
      ]
     },
     "execution_count": 52,
     "metadata": {},
     "output_type": "execute_result"
    }
   ],
   "source": [
    "from sklearn.linear_model import LinearRegression\n",
    "\n",
    "model = LinearRegression(fit_intercept=True)\n",
    "model.fit(train_X, train_y)"
   ]
  },
  {
   "cell_type": "markdown",
   "id": "817339a3-7d86-48e8-abb3-28cd8b083883",
   "metadata": {},
   "source": [
    "Then we fit our model again to the train x and y values"
   ]
  },
  {
   "cell_type": "code",
   "execution_count": 53,
   "id": "04e0ab47-c78c-4a6a-b3ff-6c9cd88fd470",
   "metadata": {},
   "outputs": [
    {
     "data": {
      "text/plain": [
       "0.4796448943771755"
      ]
     },
     "execution_count": 53,
     "metadata": {},
     "output_type": "execute_result"
    }
   ],
   "source": [
    "model.score(test_X, test_y)"
   ]
  },
  {
   "cell_type": "markdown",
   "id": "199d1813-6397-44fb-a7c9-c827d6f47377",
   "metadata": {},
   "source": [
    "Finally we produce a model score by passing our test data through the model.score() function. Despite the high positive correlation between T2 and THP-1 cell death, a linear regression model only provides a low model score of 0.48. My hypothesis for this is due to the clustering of bacteremia and carriage isolates, there is too much variation around the prediction line for an accurate model. To explore this, the dataset was split into only either bacteremia or carriage isolates andthe linear regression model repeated to see if this improves the model score."
   ]
  },
  {
   "cell_type": "markdown",
   "id": "4acdc8b3-789a-4d52-ac0e-ec6fb789e405",
   "metadata": {},
   "source": [
    "Bloodstream infections"
   ]
  },
  {
   "cell_type": "code",
   "execution_count": 54,
   "id": "c2ef9ef7-da06-403f-a860-cd0ceed07f83",
   "metadata": {},
   "outputs": [],
   "source": [
    "blood_filter = data[\"Source\"] == \"Blood (bacteraemia)\"\n",
    "blood = data[blood_filter]\n",
    "\n",
    "\n",
    "from sklearn.linear_model import LinearRegression\n",
    "\n",
    "model = LinearRegression(fit_intercept=True)\n",
    "\n",
    "X = blood[[\"THP1\"]]\n",
    "y = blood[[\"T2\"]]\n",
    "\n",
    "model.fit(X, y)\n",
    "\n",
    "x_fit = pd.DataFrame({\"THP1\": [0, 100]})\n",
    "y_pred = model.predict(x_fit)"
   ]
  },
  {
   "cell_type": "code",
   "execution_count": 55,
   "id": "f5b3f92f-fc39-4a20-ba10-68baad21a4b1",
   "metadata": {},
   "outputs": [
    {
     "data": {
      "image/png": "[encoded data removed]",
      "text/plain": [
       "<Figure size 432x288 with 1 Axes>"
      ]
     },
     "metadata": {},
     "output_type": "display_data"
    }
   ],
   "source": [
    "import matplotlib.pyplot as plt\n",
    "\n",
    "fig, ax = plt.subplots()\n",
    "\n",
    "ax.scatter(X[\"THP1\"], y)\n",
    "ax.set_ylabel(\"T2 cell death (%)\")\n",
    "ax.set_xlabel(\"THP1 cell death (%)\")\n",
    "ax.plot(x_fit, y_pred, linestyle=\":\", color=\"red\",);"
   ]
  },
  {
   "cell_type": "code",
   "execution_count": 56,
   "id": "fea6a9dd-4996-4dbb-b9f6-f260b6b6ad28",
   "metadata": {},
   "outputs": [
    {
     "name": "stdout",
     "output_type": "stream",
     "text": [
      " Model gradient:  [0.8851822]\n",
      "Model intercept: [1.44884536]\n"
     ]
    }
   ],
   "source": [
    "print(\" Model gradient: \", model.coef_[0])\n",
    "print(\"Model intercept:\", model.intercept_)"
   ]
  },
  {
   "cell_type": "markdown",
   "id": "236d8bca-9013-42e9-a733-b2355e6e3a24",
   "metadata": {},
   "source": [
    "With just bacteraemia isolates, the prediction line has an equation of y = 0.89x + 1.45 "
   ]
  },
  {
   "cell_type": "code",
   "execution_count": 57,
   "id": "c97cc61b-0a2e-4f31-a158-8918f81bb1de",
   "metadata": {},
   "outputs": [
    {
     "data": {
      "text/plain": [
       "<matplotlib.legend.Legend at 0x1cabe93cdc0>"
      ]
     },
     "execution_count": 57,
     "metadata": {},
     "output_type": "execute_result"
    },
    {
     "data": {
      "image/png": "[encoded data removed]",
      "text/plain": [
       "<Figure size 432x288 with 1 Axes>"
      ]
     },
     "metadata": {},
     "output_type": "display_data"
    }
   ],
   "source": [
    "from sklearn.model_selection import train_test_split\n",
    "\n",
    "train_X, test_X, train_y, test_y = train_test_split(X, y, random_state=42)\n",
    "\n",
    "import matplotlib.pyplot as plt\n",
    "\n",
    "fig, ax = plt.subplots()\n",
    "\n",
    "ax.scatter(train_X, train_y, color=\"red\", marker=\"o\", label=\"train\")\n",
    "ax.scatter(test_X, test_y, color=\"blue\", marker=\"x\", label=\"test\")\n",
    "ax.legend()"
   ]
  },
  {
   "cell_type": "code",
   "execution_count": 58,
   "id": "488839d0-8c0d-443e-a941-9d351565dbd9",
   "metadata": {},
   "outputs": [
    {
     "data": {
      "text/plain": [
       "0.8406943052438514"
      ]
     },
     "execution_count": 58,
     "metadata": {},
     "output_type": "execute_result"
    }
   ],
   "source": [
    "from sklearn.linear_model import LinearRegression\n",
    "\n",
    "model = LinearRegression(fit_intercept=True)\n",
    "model.fit(train_X, train_y)\n",
    "\n",
    "model.score(test_X, test_y)"
   ]
  },
  {
   "cell_type": "markdown",
   "id": "889c298e-dc13-4d81-ae18-a747f1aa40ae",
   "metadata": {},
   "source": [
    "Carriage"
   ]
  },
  {
   "cell_type": "code",
   "execution_count": 59,
   "id": "24c45469-1148-4fbc-a1a4-2a6a869e8355",
   "metadata": {},
   "outputs": [],
   "source": [
    "car_filter = data[\"Source\"] == \"Nose/skin (carriage)\"\n",
    "car = data[car_filter]\n",
    "\n",
    "from sklearn.linear_model import LinearRegression\n",
    "\n",
    "model = LinearRegression(fit_intercept=True)\n",
    "\n",
    "X = car[[\"THP1\"]]\n",
    "y = car[[\"T2\"]]\n",
    "\n",
    "model.fit(X, y)\n",
    "\n",
    "x_fit = pd.DataFrame({\"THP1\": [0, 100]})\n",
    "y_pred = model.predict(x_fit)"
   ]
  },
  {
   "cell_type": "code",
   "execution_count": 60,
   "id": "173aadde-6bbf-47d5-8b76-731764bbba94",
   "metadata": {},
   "outputs": [
    {
     "data": {
      "image/png": "[encoded data removed]",
      "text/plain": [
       "<Figure size 432x288 with 1 Axes>"
      ]
     },
     "metadata": {},
     "output_type": "display_data"
    }
   ],
   "source": [
    "import matplotlib.pyplot as plt\n",
    "\n",
    "fig, ax = plt.subplots()\n",
    "\n",
    "ax.scatter(X[\"THP1\"], y)\n",
    "ax.set_ylabel(\"T2 cell death (%)\")\n",
    "ax.set_xlabel(\"THP-1 cell death (%)\")\n",
    "ax.plot(x_fit, y_pred, linestyle=\":\", color=\"red\",);"
   ]
  },
  {
   "cell_type": "code",
   "execution_count": 61,
   "id": "1adc985f-dc58-44cc-8015-cb78d676ef5d",
   "metadata": {},
   "outputs": [
    {
     "name": "stdout",
     "output_type": "stream",
     "text": [
      " Model gradient:  [0.61221837]\n",
      "Model intercept: [41.02660009]\n"
     ]
    }
   ],
   "source": [
    "print(\" Model gradient: \", model.coef_[0])\n",
    "print(\"Model intercept:\", model.intercept_)"
   ]
  },
  {
   "cell_type": "markdown",
   "id": "a1888b45-07d0-4ca6-8520-686e08d89105",
   "metadata": {},
   "source": [
    "With just carriage isolates, the prediction line has an equation of y = 0.61x + 41.03"
   ]
  },
  {
   "cell_type": "code",
   "execution_count": 62,
   "id": "94cb79f8-f813-49c2-89b6-053111f0bf98",
   "metadata": {},
   "outputs": [
    {
     "data": {
      "text/plain": [
       "<matplotlib.legend.Legend at 0x1cabd4908e0>"
      ]
     },
     "execution_count": 62,
     "metadata": {},
     "output_type": "execute_result"
    },
    {
     "data": {
      "image/png": "[encoded data removed]",
      "text/plain": [
       "<Figure size 432x288 with 1 Axes>"
      ]
     },
     "metadata": {},
     "output_type": "display_data"
    }
   ],
   "source": [
    "from sklearn.model_selection import train_test_split\n",
    "\n",
    "train_X, test_X, train_y, test_y = train_test_split(X, y, random_state=42)\n",
    "\n",
    "import matplotlib.pyplot as plt\n",
    "\n",
    "fig, ax = plt.subplots()\n",
    "\n",
    "ax.scatter(train_X, train_y, color=\"red\", marker=\"o\", label=\"train\")\n",
    "ax.scatter(test_X, test_y, color=\"blue\", marker=\"x\", label=\"test\")\n",
    "ax.legend()"
   ]
  },
  {
   "cell_type": "code",
   "execution_count": 63,
   "id": "3a908ec0-4eb3-45f6-a815-7758f402ce79",
   "metadata": {},
   "outputs": [
    {
     "data": {
      "text/plain": [
       "0.8131734396864404"
      ]
     },
     "execution_count": 63,
     "metadata": {},
     "output_type": "execute_result"
    }
   ],
   "source": [
    "from sklearn.linear_model import LinearRegression\n",
    "\n",
    "model = LinearRegression(fit_intercept=True)\n",
    "model.fit(train_X, train_y)\n",
    "\n",
    "model.score(test_X, test_y)"
   ]
  },
  {
   "cell_type": "markdown",
   "id": "baa5ab88-9540-4200-b894-478fe2b49135",
   "metadata": {},
   "source": [
    "The model score greatly improves when looking at only bacteraemia or carriage isolates (0.84 and 0.81, respectively). This further confirms that there is significant difference in the toxicity of these two categories."
   ]
  },
  {
   "cell_type": "markdown",
   "id": "31856580-d4cf-46db-8c41-e500f9bb4168",
   "metadata": {
    "tags": []
   },
   "source": [
    "#### K nearest neighbours"
   ]
  },
  {
   "cell_type": "markdown",
   "id": "d3352c98-c433-4e71-bfad-2b1656869202",
   "metadata": {},
   "source": [
    "Given the difference in toxicity between carriage and bacteraemia isolates, K nearest neighbours was used to produce a model which could predict whether an isolate was from the nose/skin or blood based on THP-1 and T2 toxicity. "
   ]
  },
  {
   "cell_type": "code",
   "execution_count": 28,
   "id": "f4cbcd90-daf1-4270-8c18-7fc9c8ab95d8",
   "metadata": {},
   "outputs": [
    {
     "data": {
      "text/html": [
       "<div>\n",
       "<style scoped>\n",
       "    .dataframe tbody tr th:only-of-type {\n",
       "        vertical-align: middle;\n",
       "    }\n",
       "\n",
       "    .dataframe tbody tr th {\n",
       "        vertical-align: top;\n",
       "    }\n",
       "\n",
       "    .dataframe thead th {\n",
       "        text-align: right;\n",
       "    }\n",
       "</style>\n",
       "<table border=\"1\" class=\"dataframe\">\n",
       "  <thead>\n",
       "    <tr style=\"text-align: right;\">\n",
       "      <th></th>\n",
       "      <th>Source</th>\n",
       "      <th>THP1</th>\n",
       "      <th>T2</th>\n",
       "    </tr>\n",
       "  </thead>\n",
       "  <tbody>\n",
       "    <tr>\n",
       "      <th>0</th>\n",
       "      <td>0</td>\n",
       "      <td>80.533333</td>\n",
       "      <td>58.133333</td>\n",
       "    </tr>\n",
       "    <tr>\n",
       "      <th>1</th>\n",
       "      <td>0</td>\n",
       "      <td>37.333333</td>\n",
       "      <td>27.466667</td>\n",
       "    </tr>\n",
       "    <tr>\n",
       "      <th>2</th>\n",
       "      <td>0</td>\n",
       "      <td>5.233333</td>\n",
       "      <td>11.500000</td>\n",
       "    </tr>\n",
       "    <tr>\n",
       "      <th>3</th>\n",
       "      <td>0</td>\n",
       "      <td>73.200000</td>\n",
       "      <td>69.933333</td>\n",
       "    </tr>\n",
       "    <tr>\n",
       "      <th>4</th>\n",
       "      <td>0</td>\n",
       "      <td>84.033333</td>\n",
       "      <td>70.266667</td>\n",
       "    </tr>\n",
       "    <tr>\n",
       "      <th>...</th>\n",
       "      <td>...</td>\n",
       "      <td>...</td>\n",
       "      <td>...</td>\n",
       "    </tr>\n",
       "    <tr>\n",
       "      <th>69</th>\n",
       "      <td>1</td>\n",
       "      <td>69.400000</td>\n",
       "      <td>83.666667</td>\n",
       "    </tr>\n",
       "    <tr>\n",
       "      <th>70</th>\n",
       "      <td>1</td>\n",
       "      <td>13.566667</td>\n",
       "      <td>41.000000</td>\n",
       "    </tr>\n",
       "    <tr>\n",
       "      <th>71</th>\n",
       "      <td>1</td>\n",
       "      <td>54.300000</td>\n",
       "      <td>80.100000</td>\n",
       "    </tr>\n",
       "    <tr>\n",
       "      <th>72</th>\n",
       "      <td>1</td>\n",
       "      <td>67.400000</td>\n",
       "      <td>90.466667</td>\n",
       "    </tr>\n",
       "    <tr>\n",
       "      <th>73</th>\n",
       "      <td>1</td>\n",
       "      <td>28.833333</td>\n",
       "      <td>63.933333</td>\n",
       "    </tr>\n",
       "  </tbody>\n",
       "</table>\n",
       "<p>74 rows × 3 columns</p>\n",
       "</div>"
      ],
      "text/plain": [
       "    Source       THP1         T2\n",
       "0        0  80.533333  58.133333\n",
       "1        0  37.333333  27.466667\n",
       "2        0   5.233333  11.500000\n",
       "3        0  73.200000  69.933333\n",
       "4        0  84.033333  70.266667\n",
       "..     ...        ...        ...\n",
       "69       1  69.400000  83.666667\n",
       "70       1  13.566667  41.000000\n",
       "71       1  54.300000  80.100000\n",
       "72       1  67.400000  90.466667\n",
       "73       1  28.833333  63.933333\n",
       "\n",
       "[74 rows x 3 columns]"
      ]
     },
     "execution_count": 28,
     "metadata": {},
     "output_type": "execute_result"
    }
   ],
   "source": [
    "data2 = data = pd.read_csv(\"isolate_data2.csv\",  na_values = \"N/A\")\n",
    "\n",
    "data2 = data2.rename(columns= {\"Mena T2 cell death (%)\":\"T2\", \"Mean THP1 cell death (%)\":\"THP1\"})\n",
    "data2"
   ]
  },
  {
   "cell_type": "markdown",
   "id": "a8bfd406-33f2-4a3b-86e5-6f2d9f64969e",
   "metadata": {},
   "source": [
    "For this model, I removed any unnecessary columns from the dataset and converted the source category to a binary system where 0 represents a carriage isolate and 1 represents a bacteraemia isolate"
   ]
  },
  {
   "cell_type": "code",
   "execution_count": 69,
   "id": "06baea4e-05a2-42c8-84db-f28ddddb9dba",
   "metadata": {},
   "outputs": [],
   "source": [
    "X = data2.drop(\"Source\", axis=1)\n",
    "y = data2[\"Source\"]"
   ]
  },
  {
   "cell_type": "markdown",
   "id": "1253ca94-5133-45b9-9216-4e57ce7ce6ee",
   "metadata": {},
   "source": [
    "This code creates two variables for the model. X refers to all the data except \"Source\" (created using the data.drop() function) in a 2D dataframe and y is the \"Source\" of each datapoint in a single column"
   ]
  },
  {
   "cell_type": "code",
   "execution_count": 70,
   "id": "15115a1f-bfc4-4b1f-ba3c-7e95adae9f81",
   "metadata": {},
   "outputs": [],
   "source": [
    "from sklearn.model_selection import train_test_split\n",
    "\n",
    "train_X, test_X, train_y, test_y = train_test_split(X, y, random_state=42)"
   ]
  },
  {
   "cell_type": "markdown",
   "id": "60e5a0a4-1ed5-448e-b851-b02bee221f6b",
   "metadata": {},
   "source": [
    "The data was then split into train and test datasets to check the performance of the model"
   ]
  },
  {
   "cell_type": "code",
   "execution_count": 71,
   "id": "72be602e-7edc-4044-8649-b05c0e6e4621",
   "metadata": {},
   "outputs": [
    {
     "data": {
      "text/plain": [
       "GridSearchCV(estimator=KNeighborsClassifier(),\n",
       "             param_grid={'n_neighbors': range(1, 44)})"
      ]
     },
     "execution_count": 71,
     "metadata": {},
     "output_type": "execute_result"
    }
   ],
   "source": [
    "from sklearn.model_selection import GridSearchCV\n",
    "from sklearn.neighbors import KNeighborsClassifier\n",
    "\n",
    "parameters = {\n",
    "    \"n_neighbors\" : range(1, 44),\n",
    "}\n",
    "model = GridSearchCV(KNeighborsClassifier(), parameters)\n",
    "model.fit(train_X, train_y)"
   ]
  },
  {
   "cell_type": "raw",
   "id": "d0c3cf00-2f55-4974-b692-e062b92f424a",
   "metadata": {},
   "source": [
    "Before constructing the model, we need to find the optimal value of n_neighbours using GridSearchCV"
   ]
  },
  {
   "cell_type": "code",
   "execution_count": 73,
   "id": "ae2b8aba-46f6-41b0-8d99-a368dea6f798",
   "metadata": {},
   "outputs": [
    {
     "ename": "NameError",
     "evalue": "name 'cv_results' is not defined",
     "output_type": "error",
     "traceback": [
      "\u001b[1;31m---------------------------------------------------------------------------\u001b[0m",
      "\u001b[1;31mNameError\u001b[0m                                 Traceback (most recent call last)",
      "\u001b[1;32m~\\AppData\\Local\\Temp/ipykernel_7664/1099174674.py\u001b[0m in \u001b[0;36m<module>\u001b[1;34m\u001b[0m\n\u001b[1;32m----> 1\u001b[1;33m \u001b[0mcv_results\u001b[0m \u001b[1;33m=\u001b[0m \u001b[0mcv_results\u001b[0m\u001b[1;33m.\u001b[0m\u001b[0msort_values\u001b[0m\u001b[1;33m(\u001b[0m\u001b[1;33m[\u001b[0m\u001b[1;34m\"rank_test_score\"\u001b[0m\u001b[1;33m,\u001b[0m \u001b[1;34m\"mean_test_score\"\u001b[0m\u001b[1;33m]\u001b[0m\u001b[1;33m)\u001b[0m\u001b[1;33m\u001b[0m\u001b[1;33m\u001b[0m\u001b[0m\n\u001b[0m\u001b[0;32m      2\u001b[0m \u001b[0mcv_results\u001b[0m\u001b[1;33m.\u001b[0m\u001b[0mhead\u001b[0m\u001b[1;33m(\u001b[0m\u001b[1;33m)\u001b[0m\u001b[1;33m[\u001b[0m\u001b[1;33m[\u001b[0m\u001b[1;34m\"param_n_neighbors\"\u001b[0m\u001b[1;33m,\u001b[0m \u001b[1;34m\"mean_test_score\"\u001b[0m\u001b[1;33m,\u001b[0m \u001b[1;34m\"std_test_score\"\u001b[0m\u001b[1;33m,\u001b[0m \u001b[1;34m\"rank_test_score\"\u001b[0m\u001b[1;33m]\u001b[0m\u001b[1;33m]\u001b[0m\u001b[1;33m\u001b[0m\u001b[1;33m\u001b[0m\u001b[0m\n",
      "\u001b[1;31mNameError\u001b[0m: name 'cv_results' is not defined"
     ]
    }
   ],
   "source": [
    "cv_results = cv_results.sort_values([\"rank_test_score\", \"mean_test_score\"])\n",
    "cv_results.head()[[\"param_n_neighbors\", \"mean_test_score\", \"std_test_score\", \"rank_test_score\"]]"
   ]
  },
  {
   "cell_type": "markdown",
   "id": "e4378b4e-1192-49a6-b78a-991ef3567c4c",
   "metadata": {},
   "source": [
    "This identified 3 as the optimal value for n_neighbours"
   ]
  },
  {
   "cell_type": "code",
   "execution_count": 75,
   "id": "db187ec9-586e-40ad-beff-5d2fb4c363e6",
   "metadata": {},
   "outputs": [
    {
     "data": {
      "text/plain": [
       "KNeighborsClassifier(n_neighbors=3)"
      ]
     },
     "execution_count": 75,
     "metadata": {},
     "output_type": "execute_result"
    }
   ],
   "source": [
    "from sklearn.neighbors import KNeighborsClassifier\n",
    "\n",
    "model = KNeighborsClassifier(n_neighbors=3)\n",
    "model.fit(train_X, train_y)"
   ]
  },
  {
   "cell_type": "markdown",
   "id": "62a2d7e6-8ec6-4105-b5e8-0122381a7795",
   "metadata": {},
   "source": [
    "We then fit our model using the optimal n_neighbours value of 3 using the model.fit() function"
   ]
  },
  {
   "cell_type": "code",
   "execution_count": 76,
   "id": "8c068f43-9400-47fd-b782-d7b3d45aa303",
   "metadata": {},
   "outputs": [
    {
     "data": {
      "text/plain": [
       "0.9473684210526315"
      ]
     },
     "execution_count": 76,
     "metadata": {},
     "output_type": "execute_result"
    }
   ],
   "source": [
    "model.score(test_X, test_y)"
   ]
  },
  {
   "cell_type": "markdown",
   "id": "316876ac-3319-43f2-87f4-b1336ab7dbe6",
   "metadata": {},
   "source": [
    "When we test our model, we get a very good model score of 0.95"
   ]
  },
  {
   "cell_type": "code",
   "execution_count": 77,
   "id": "22ea2461-fa13-42c8-b173-cbefae8aa2a6",
   "metadata": {},
   "outputs": [
    {
     "data": {
      "image/png": "[encoded data removed]",
      "text/plain": [
       "<Figure size 432x288 with 1 Axes>"
      ]
     },
     "metadata": {},
     "output_type": "display_data"
    }
   ],
   "source": [
    "def plot_knn(model, X, y, resolution=100, ax=None):\n",
    "    import matplotlib.pyplot as plt\n",
    "    import numpy as np\n",
    "    import pandas as pd\n",
    "\n",
    "    x1 = X.iloc[:,0]\n",
    "    x2 = X.iloc[:,1]\n",
    "    x1_range = np.linspace(x1.min()*1.1 - x1.max()*0.1, x1.max()*1.1 - x1.min()*0.1, resolution)\n",
    "    x2_range = np.linspace(x2.min()*1.1 - x2.max()*0.1, x2.max()*1.1 - x2.min()*0.1, resolution)\n",
    "    grid_x1_values, grid_x2_values = np.meshgrid(x1_range, x2_range)\n",
    "    x_prime = np.column_stack((grid_x1_values.ravel(), grid_x2_values.ravel()))\n",
    "    x_prime = pd.DataFrame(x_prime, columns=X.columns)\n",
    "    y_hat = model.predict(x_prime).reshape(grid_x1_values.shape)\n",
    "\n",
    "    if ax is None:\n",
    "        fig, ax = plt.subplots()\n",
    "    ax.pcolormesh(grid_x1_values, grid_x2_values, y_hat, cmap=\"Pastel2\", alpha=1.0, shading=\"auto\")\n",
    "    X.plot.scatter(0, 1, c=y, colormap=\"Dark2\", colorbar=False, alpha=0.8, ax=ax)\n",
    "\n",
    "plot_knn(model, X, y)"
   ]
  },
  {
   "cell_type": "markdown",
   "id": "28be9988-aaa0-40ee-bfa7-dc7ebd254591",
   "metadata": {},
   "source": [
    "After this, we can visualise our data using the plot_knn() function. In agreement with the hgh model score, there is a clear separation between the two categories (green are bacteraemia and grey are carriage isolates)"
   ]
  },
  {
   "cell_type": "code",
   "execution_count": 82,
   "id": "8c4c0db6-6678-4342-8bff-32fb0e07d17c",
   "metadata": {},
   "outputs": [
    {
     "data": {
      "text/html": [
       "<div>\n",
       "<style scoped>\n",
       "    .dataframe tbody tr th:only-of-type {\n",
       "        vertical-align: middle;\n",
       "    }\n",
       "\n",
       "    .dataframe tbody tr th {\n",
       "        vertical-align: top;\n",
       "    }\n",
       "\n",
       "    .dataframe thead th {\n",
       "        text-align: right;\n",
       "    }\n",
       "</style>\n",
       "<table border=\"1\" class=\"dataframe\">\n",
       "  <thead>\n",
       "    <tr style=\"text-align: right;\">\n",
       "      <th></th>\n",
       "      <th>THP1</th>\n",
       "      <th>T2</th>\n",
       "    </tr>\n",
       "  </thead>\n",
       "  <tbody>\n",
       "    <tr>\n",
       "      <th>0</th>\n",
       "      <td>40.60</td>\n",
       "      <td>78.000000</td>\n",
       "    </tr>\n",
       "    <tr>\n",
       "      <th>1</th>\n",
       "      <td>60.68</td>\n",
       "      <td>29.466667</td>\n",
       "    </tr>\n",
       "    <tr>\n",
       "      <th>2</th>\n",
       "      <td>63.18</td>\n",
       "      <td>75.200000</td>\n",
       "    </tr>\n",
       "    <tr>\n",
       "      <th>3</th>\n",
       "      <td>35.00</td>\n",
       "      <td>12.210000</td>\n",
       "    </tr>\n",
       "    <tr>\n",
       "      <th>4</th>\n",
       "      <td>79.62</td>\n",
       "      <td>70.266667</td>\n",
       "    </tr>\n",
       "    <tr>\n",
       "      <th>5</th>\n",
       "      <td>59.44</td>\n",
       "      <td>65.000000</td>\n",
       "    </tr>\n",
       "    <tr>\n",
       "      <th>6</th>\n",
       "      <td>81.80</td>\n",
       "      <td>90.000000</td>\n",
       "    </tr>\n",
       "    <tr>\n",
       "      <th>7</th>\n",
       "      <td>86.53</td>\n",
       "      <td>76.200000</td>\n",
       "    </tr>\n",
       "    <tr>\n",
       "      <th>8</th>\n",
       "      <td>100.00</td>\n",
       "      <td>100.000000</td>\n",
       "    </tr>\n",
       "  </tbody>\n",
       "</table>\n",
       "</div>"
      ],
      "text/plain": [
       "     THP1          T2\n",
       "0   40.60   78.000000\n",
       "1   60.68   29.466667\n",
       "2   63.18   75.200000\n",
       "3   35.00   12.210000\n",
       "4   79.62   70.266667\n",
       "5   59.44   65.000000\n",
       "6   81.80   90.000000\n",
       "7   86.53   76.200000\n",
       "8  100.00  100.000000"
      ]
     },
     "execution_count": 82,
     "metadata": {},
     "output_type": "execute_result"
    }
   ],
   "source": [
    "data3 = pd.read_csv(\"dummy_isolate_data.csv\",  na_values = \"N/A\")\n",
    "data3\n"
   ]
  },
  {
   "cell_type": "markdown",
   "id": "e7fe90f6-8f5a-4dda-9f85-970af7593194",
   "metadata": {},
   "source": [
    "Finally, we can import a new dataset of isolates with known THP-1 and T2 cell toxicity, but unknown source. We can then predict the source using our model and the clf.predict() function"
   ]
  },
  {
   "cell_type": "code",
   "execution_count": 84,
   "id": "8a0986a9-edc2-4a71-8047-1c476faa18ad",
   "metadata": {},
   "outputs": [
    {
     "data": {
      "text/plain": [
       "array([1, 0, 0, 0, 0, 0, 1, 0, 1], dtype=int64)"
      ]
     },
     "execution_count": 84,
     "metadata": {},
     "output_type": "execute_result"
    }
   ],
   "source": [
    "model.predict(data3)"
   ]
  },
  {
   "cell_type": "code",
   "execution_count": null,
   "id": "c8f58e37-2a16-476a-a711-3e5bdcba0880",
   "metadata": {},
   "outputs": [],
   "source": []
  }
 ],
 "metadata": {
  "kernelspec": {
   "display_name": "Python 3 (ipykernel)",
   "language": "python",
   "name": "python3"
  },
  "language_info": {
   "codemirror_mode": {
    "name": "ipython",
    "version": 3
   },
   "file_extension": ".py",
   "mimetype": "text/x-python",
   "name": "python",
   "nbconvert_exporter": "python",
   "pygments_lexer": "ipython3",
   "version": "3.9.7"
  }
 },
 "nbformat": 4,
 "nbformat_minor": 5
}
